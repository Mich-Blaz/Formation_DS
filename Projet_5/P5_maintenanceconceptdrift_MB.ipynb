{
 "cells": [
  {
   "cell_type": "markdown",
   "id": "3cd76ea1-ab07-485b-aa11-70bf84d9b9df",
   "metadata": {},
   "source": [
    "# Projet 5: Notebook pour la fréquence de maintenance\n",
    "\n",
    "La ligne qui suit correspond à l'importation d'une librairie permettant la correction en imposant les règles pour suivre la programmation PEP8"
   ]
  },
  {
   "cell_type": "code",
   "execution_count": 1,
   "id": "de87c1b2-fcd8-48f4-8699-d9ce9edbcf7c",
   "metadata": {},
   "outputs": [],
   "source": [
    "%load_ext lab_black"
   ]
  },
  {
   "cell_type": "markdown",
   "id": "06dcf047-0f91-467a-83e2-9b03c2d71743",
   "metadata": {},
   "source": [
    "Importation des librairies et du dataset"
   ]
  },
  {
   "cell_type": "code",
   "execution_count": 80,
   "id": "3c3f92d6-fa75-456a-ba08-725cbb734b76",
   "metadata": {},
   "outputs": [],
   "source": [
    "import pandas as pd\n",
    "import numpy as np\n",
    "import matplotlib.pyplot as plt\n",
    "from sklearn.cluster import KMeans\n",
    "import seaborn as sns\n",
    "from datetime import datetime\n",
    "import datetime\n",
    "from sklearn.preprocessing import StandardScaler\n",
    "from sklearn.metrics.cluster import adjusted_rand_score"
   ]
  },
  {
   "cell_type": "code",
   "execution_count": 4,
   "id": "69ab2e40-b358-4005-901e-8a7319d3c409",
   "metadata": {},
   "outputs": [],
   "source": [
    "data = pd.read_csv(\"Dataset_joined.csv\")"
   ]
  },
  {
   "cell_type": "code",
   "execution_count": 5,
   "id": "6af8c84a-6f6d-47ed-9092-921f2783ac20",
   "metadata": {},
   "outputs": [
    {
     "data": {
      "text/html": [
       "<div>\n",
       "<style scoped>\n",
       "    .dataframe tbody tr th:only-of-type {\n",
       "        vertical-align: middle;\n",
       "    }\n",
       "\n",
       "    .dataframe tbody tr th {\n",
       "        vertical-align: top;\n",
       "    }\n",
       "\n",
       "    .dataframe thead th {\n",
       "        text-align: right;\n",
       "    }\n",
       "</style>\n",
       "<table border=\"1\" class=\"dataframe\">\n",
       "  <thead>\n",
       "    <tr style=\"text-align: right;\">\n",
       "      <th></th>\n",
       "      <th>order_id</th>\n",
       "      <th>customer_unique_id</th>\n",
       "      <th>cat_mode_order</th>\n",
       "      <th>total_weight_order</th>\n",
       "      <th>volume_totat_order_cm3</th>\n",
       "      <th>price</th>\n",
       "      <th>pourcentage_livraison</th>\n",
       "      <th>nb_article</th>\n",
       "      <th>heure_commande</th>\n",
       "      <th>temps_commande_reception</th>\n",
       "      <th>order_purchase_timestamp</th>\n",
       "      <th>nombre_review_commande</th>\n",
       "      <th>review_score</th>\n",
       "      <th>semaine_vs_weekend</th>\n",
       "      <th>cat_creneautravailoupas</th>\n",
       "      <th>Distance_cust_seller_km</th>\n",
       "      <th>geolocation_lat_sellers</th>\n",
       "      <th>geolocation_lng_sellers</th>\n",
       "      <th>customer_state</th>\n",
       "    </tr>\n",
       "  </thead>\n",
       "  <tbody>\n",
       "    <tr>\n",
       "      <th>0</th>\n",
       "      <td>e481f51cbdc54678b7cc49136f2d6af7</td>\n",
       "      <td>7c396fd4830fd04220f754e42b4e5bff</td>\n",
       "      <td>consommable</td>\n",
       "      <td>500.0</td>\n",
       "      <td>1976.0</td>\n",
       "      <td>29.99</td>\n",
       "      <td>0.225265</td>\n",
       "      <td>1</td>\n",
       "      <td>10</td>\n",
       "      <td>8.0</td>\n",
       "      <td>2017-10-02 10:56:33</td>\n",
       "      <td>1.0</td>\n",
       "      <td>4.0</td>\n",
       "      <td>jour_travail</td>\n",
       "      <td>temps_prof</td>\n",
       "      <td>0.000000</td>\n",
       "      <td>-23.155308</td>\n",
       "      <td>-47.084074</td>\n",
       "      <td>Est</td>\n",
       "    </tr>\n",
       "    <tr>\n",
       "      <th>1</th>\n",
       "      <td>53cdb2fc8bc7dce0b6741e2150273451</td>\n",
       "      <td>af07308b275d755c9edb36a90c618231</td>\n",
       "      <td>consommable</td>\n",
       "      <td>400.0</td>\n",
       "      <td>4693.0</td>\n",
       "      <td>118.70</td>\n",
       "      <td>0.160894</td>\n",
       "      <td>1</td>\n",
       "      <td>20</td>\n",
       "      <td>13.0</td>\n",
       "      <td>2018-07-24 20:41:37</td>\n",
       "      <td>1.0</td>\n",
       "      <td>4.0</td>\n",
       "      <td>jour_travail</td>\n",
       "      <td>temps_perso</td>\n",
       "      <td>1375.789636</td>\n",
       "      <td>-13.049361</td>\n",
       "      <td>-39.560649</td>\n",
       "      <td>Nord_Est</td>\n",
       "    </tr>\n",
       "    <tr>\n",
       "      <th>2</th>\n",
       "      <td>47770eb9100c2d0c44946d9cf07ec65d</td>\n",
       "      <td>3a653a41f6f9fc3d2a113cf8398680e8</td>\n",
       "      <td>service_outils</td>\n",
       "      <td>420.0</td>\n",
       "      <td>9576.0</td>\n",
       "      <td>159.90</td>\n",
       "      <td>0.107302</td>\n",
       "      <td>1</td>\n",
       "      <td>8</td>\n",
       "      <td>9.0</td>\n",
       "      <td>2018-08-08 08:38:49</td>\n",
       "      <td>1.0</td>\n",
       "      <td>5.0</td>\n",
       "      <td>jour_travail</td>\n",
       "      <td>temps_perso</td>\n",
       "      <td>768.269422</td>\n",
       "      <td>-16.577645</td>\n",
       "      <td>-49.334195</td>\n",
       "      <td>Ouest</td>\n",
       "    </tr>\n",
       "    <tr>\n",
       "      <th>3</th>\n",
       "      <td>949d5b44dbf5de918fe9c16f97b45f8a</td>\n",
       "      <td>7c142cf63193a1473d2e66489a9ae977</td>\n",
       "      <td>consommable</td>\n",
       "      <td>450.0</td>\n",
       "      <td>6000.0</td>\n",
       "      <td>45.00</td>\n",
       "      <td>0.376731</td>\n",
       "      <td>1</td>\n",
       "      <td>19</td>\n",
       "      <td>13.0</td>\n",
       "      <td>2017-11-18 19:28:06</td>\n",
       "      <td>1.0</td>\n",
       "      <td>5.0</td>\n",
       "      <td>weekend</td>\n",
       "      <td>temps_perso</td>\n",
       "      <td>1804.635910</td>\n",
       "      <td>-5.856702</td>\n",
       "      <td>-35.990079</td>\n",
       "      <td>Nord_Est</td>\n",
       "    </tr>\n",
       "    <tr>\n",
       "      <th>4</th>\n",
       "      <td>ad21c59c0840e6cb83a9ceb5573f8159</td>\n",
       "      <td>72632f0f9dd73dfee390c9b22eb56dd6</td>\n",
       "      <td>multimedia</td>\n",
       "      <td>250.0</td>\n",
       "      <td>11475.0</td>\n",
       "      <td>19.90</td>\n",
       "      <td>0.304682</td>\n",
       "      <td>1</td>\n",
       "      <td>21</td>\n",
       "      <td>2.0</td>\n",
       "      <td>2018-02-13 21:18:39</td>\n",
       "      <td>1.0</td>\n",
       "      <td>5.0</td>\n",
       "      <td>jour_travail</td>\n",
       "      <td>temps_perso</td>\n",
       "      <td>0.000000</td>\n",
       "      <td>-23.155308</td>\n",
       "      <td>-47.084074</td>\n",
       "      <td>Est</td>\n",
       "    </tr>\n",
       "  </tbody>\n",
       "</table>\n",
       "</div>"
      ],
      "text/plain": [
       "                           order_id                customer_unique_id  \\\n",
       "0  e481f51cbdc54678b7cc49136f2d6af7  7c396fd4830fd04220f754e42b4e5bff   \n",
       "1  53cdb2fc8bc7dce0b6741e2150273451  af07308b275d755c9edb36a90c618231   \n",
       "2  47770eb9100c2d0c44946d9cf07ec65d  3a653a41f6f9fc3d2a113cf8398680e8   \n",
       "3  949d5b44dbf5de918fe9c16f97b45f8a  7c142cf63193a1473d2e66489a9ae977   \n",
       "4  ad21c59c0840e6cb83a9ceb5573f8159  72632f0f9dd73dfee390c9b22eb56dd6   \n",
       "\n",
       "   cat_mode_order  total_weight_order  volume_totat_order_cm3   price  \\\n",
       "0     consommable               500.0                  1976.0   29.99   \n",
       "1     consommable               400.0                  4693.0  118.70   \n",
       "2  service_outils               420.0                  9576.0  159.90   \n",
       "3     consommable               450.0                  6000.0   45.00   \n",
       "4      multimedia               250.0                 11475.0   19.90   \n",
       "\n",
       "   pourcentage_livraison  nb_article  heure_commande  \\\n",
       "0               0.225265           1              10   \n",
       "1               0.160894           1              20   \n",
       "2               0.107302           1               8   \n",
       "3               0.376731           1              19   \n",
       "4               0.304682           1              21   \n",
       "\n",
       "   temps_commande_reception order_purchase_timestamp  nombre_review_commande  \\\n",
       "0                       8.0      2017-10-02 10:56:33                     1.0   \n",
       "1                      13.0      2018-07-24 20:41:37                     1.0   \n",
       "2                       9.0      2018-08-08 08:38:49                     1.0   \n",
       "3                      13.0      2017-11-18 19:28:06                     1.0   \n",
       "4                       2.0      2018-02-13 21:18:39                     1.0   \n",
       "\n",
       "   review_score semaine_vs_weekend cat_creneautravailoupas  \\\n",
       "0           4.0       jour_travail              temps_prof   \n",
       "1           4.0       jour_travail             temps_perso   \n",
       "2           5.0       jour_travail             temps_perso   \n",
       "3           5.0            weekend             temps_perso   \n",
       "4           5.0       jour_travail             temps_perso   \n",
       "\n",
       "   Distance_cust_seller_km  geolocation_lat_sellers  geolocation_lng_sellers  \\\n",
       "0                 0.000000               -23.155308               -47.084074   \n",
       "1              1375.789636               -13.049361               -39.560649   \n",
       "2               768.269422               -16.577645               -49.334195   \n",
       "3              1804.635910                -5.856702               -35.990079   \n",
       "4                 0.000000               -23.155308               -47.084074   \n",
       "\n",
       "  customer_state  \n",
       "0            Est  \n",
       "1       Nord_Est  \n",
       "2          Ouest  \n",
       "3       Nord_Est  \n",
       "4            Est  "
      ]
     },
     "execution_count": 5,
     "metadata": {},
     "output_type": "execute_result"
    }
   ],
   "source": [
    "data.head()"
   ]
  },
  {
   "cell_type": "code",
   "execution_count": 9,
   "id": "bdde6e23-a7ec-493f-8562-d6262fc4c372",
   "metadata": {},
   "outputs": [],
   "source": [
    "data.order_purchase_timestamp = data.order_purchase_timestamp.apply(\n",
    "    lambda x: datetime.strptime(x, \"%Y-%m-%d %H:%M:%S\")\n",
    ")"
   ]
  },
  {
   "cell_type": "code",
   "execution_count": 27,
   "id": "5b2ddb8d-a7a7-42f5-842d-700f2b06ba65",
   "metadata": {},
   "outputs": [],
   "source": [
    "start, end = data.order_purchase_timestamp.min(), data.order_purchase_timestamp.max()"
   ]
  },
  {
   "cell_type": "code",
   "execution_count": 29,
   "id": "352f8562-4905-48a5-aac2-008da76f330b",
   "metadata": {},
   "outputs": [
    {
     "name": "stdout",
     "output_type": "stream",
     "text": [
      "Le jeu de données débute le 2016-09-15 12:16:38  et termine le 2018-08-29 15:00:37\n"
     ]
    }
   ],
   "source": [
    "print(\"Le jeu de données débute le\", start, \" et termine le\", end)"
   ]
  },
  {
   "cell_type": "markdown",
   "id": "aa09810d-2eb1-4937-8675-c5d42ecc900b",
   "metadata": {},
   "source": [
    "On va prendre la première année afin de pouvoir simuler un modèle que nous donnerions à la société. On aura donc le reste pour effectuer les différents entraînement pour analyser la dérive."
   ]
  },
  {
   "cell_type": "code",
   "execution_count": 32,
   "id": "67400f83-96f6-49fe-a528-fafcad9caec8",
   "metadata": {},
   "outputs": [
    {
     "data": {
      "text/plain": [
       "DatetimeIndex(['2016-10-01 12:16:38', '2016-11-01 12:16:38',\n",
       "               '2016-12-01 12:16:38', '2017-01-01 12:16:38',\n",
       "               '2017-02-01 12:16:38', '2017-03-01 12:16:38',\n",
       "               '2017-04-01 12:16:38', '2017-05-01 12:16:38',\n",
       "               '2017-06-01 12:16:38', '2017-07-01 12:16:38',\n",
       "               '2017-08-01 12:16:38', '2017-09-01 12:16:38',\n",
       "               '2017-10-01 12:16:38'],\n",
       "              dtype='datetime64[ns]', freq='MS')"
      ]
     },
     "execution_count": 32,
     "metadata": {},
     "output_type": "execute_result"
    }
   ],
   "source": [
    "pd.date_range(start, end, freq=\"MS\")[:13]"
   ]
  },
  {
   "cell_type": "code",
   "execution_count": 39,
   "id": "0f239839-1c18-45bb-9aa9-49ee2ce31398",
   "metadata": {},
   "outputs": [],
   "source": [
    "diff_date_int = pd.date_range(start, end, freq=\"MS\")[13:]"
   ]
  },
  {
   "cell_type": "code",
   "execution_count": 120,
   "id": "ba1858b3-b298-4814-85ed-72c541484bc1",
   "metadata": {},
   "outputs": [
    {
     "data": {
      "text/plain": [
       "Timestamp('2017-10-01 12:16:38', freq='MS')"
      ]
     },
     "execution_count": 120,
     "metadata": {},
     "output_type": "execute_result"
    }
   ],
   "source": [
    "date_init = pd.date_range(start, end, freq=\"MS\")[12]\n",
    "date_init"
   ]
  },
  {
   "cell_type": "markdown",
   "id": "f1beb045-5c89-4b58-8a1b-0f3a8a06e5c5",
   "metadata": {},
   "source": [
    "Création de la base de données dfinit qui entrainera le modèle donné au client:"
   ]
  },
  {
   "cell_type": "code",
   "execution_count": 50,
   "id": "9761698b-3d27-425b-8825-71d5dc9c6c8e",
   "metadata": {},
   "outputs": [],
   "source": [
    "data_init = data[(data.order_purchase_timestamp < date_init)]"
   ]
  },
  {
   "cell_type": "code",
   "execution_count": 51,
   "id": "1248b052-6024-4fb0-b95f-6d4e1ccdba8c",
   "metadata": {},
   "outputs": [],
   "source": [
    "df_init = data_init.groupby(\"customer_unique_id\").agg(\n",
    "    {\n",
    "        \"Distance_cust_seller_km\": \"mean\",\n",
    "        \"review_score\": \"mean\",\n",
    "        \"temps_commande_reception\": \"mean\",\n",
    "        \"pourcentage_livraison\": \"mean\",\n",
    "        \"price\": \"mean\",\n",
    "    }\n",
    ")"
   ]
  },
  {
   "cell_type": "code",
   "execution_count": 55,
   "id": "b98fb25a-4e67-46e6-8a83-4691f3481266",
   "metadata": {},
   "outputs": [
    {
     "name": "stdout",
     "output_type": "stream",
     "text": [
      "Sur la première année, on va entrainer le modèle avec 25230 clients\n"
     ]
    }
   ],
   "source": [
    "print(\n",
    "    \"Sur la première année, on va entrainer le modèle avec {} clients\".format(\n",
    "        len(df_init)\n",
    "    )\n",
    ")"
   ]
  },
  {
   "cell_type": "code",
   "execution_count": 57,
   "id": "ab5cd1ca-afcd-4f63-ae37-221af88be78e",
   "metadata": {},
   "outputs": [],
   "source": [
    "scaler = StandardScaler()"
   ]
  },
  {
   "cell_type": "code",
   "execution_count": 58,
   "id": "701caa49-09cb-49b9-a3bb-5118e9a8dfcf",
   "metadata": {},
   "outputs": [],
   "source": [
    "df_init_scaled = scaler.fit_transform(df_init)"
   ]
  },
  {
   "cell_type": "code",
   "execution_count": 81,
   "id": "f0d7234f-fbe1-44d2-9dce-f87c3d25c05c",
   "metadata": {},
   "outputs": [],
   "source": [
    "model_init = KMeans(4, random_state=42)"
   ]
  },
  {
   "cell_type": "code",
   "execution_count": 82,
   "id": "a1432440-d984-4d31-aad8-c0e04ef25141",
   "metadata": {},
   "outputs": [
    {
     "data": {
      "text/plain": [
       "KMeans(n_clusters=4, random_state=42)"
      ]
     },
     "execution_count": 82,
     "metadata": {},
     "output_type": "execute_result"
    }
   ],
   "source": [
    "model_init.fit(df_init_scaled)"
   ]
  },
  {
   "cell_type": "code",
   "execution_count": 83,
   "id": "6b1f7204-5fbf-44f1-a850-8d5d111ec371",
   "metadata": {},
   "outputs": [
    {
     "data": {
      "text/plain": [
       "2    16315\n",
       "3     4145\n",
       "0     4036\n",
       "1      734\n",
       "dtype: int64"
      ]
     },
     "execution_count": 83,
     "metadata": {},
     "output_type": "execute_result"
    }
   ],
   "source": [
    "pd.DataFrame(model_init.labels_).value_counts()"
   ]
  },
  {
   "cell_type": "code",
   "execution_count": 84,
   "id": "9648f74a-4c1c-4b5d-ac8f-53a078377953",
   "metadata": {},
   "outputs": [],
   "source": [
    "analyse = df_init.copy()"
   ]
  },
  {
   "cell_type": "code",
   "execution_count": 85,
   "id": "bbcdf69a-eef8-4234-8fc2-21586ca35a13",
   "metadata": {},
   "outputs": [],
   "source": [
    "analyse[\"cluster\"] = model_init.labels_"
   ]
  },
  {
   "cell_type": "code",
   "execution_count": 86,
   "id": "5af2ba3b-9a67-4da6-a46a-96d3919c66e6",
   "metadata": {},
   "outputs": [
    {
     "data": {
      "text/html": [
       "<div>\n",
       "<style scoped>\n",
       "    .dataframe tbody tr th:only-of-type {\n",
       "        vertical-align: middle;\n",
       "    }\n",
       "\n",
       "    .dataframe tbody tr th {\n",
       "        vertical-align: top;\n",
       "    }\n",
       "\n",
       "    .dataframe thead th {\n",
       "        text-align: right;\n",
       "    }\n",
       "</style>\n",
       "<table border=\"1\" class=\"dataframe\">\n",
       "  <thead>\n",
       "    <tr style=\"text-align: right;\">\n",
       "      <th></th>\n",
       "      <th>Distance_cust_seller_km</th>\n",
       "      <th>review_score</th>\n",
       "      <th>temps_commande_reception</th>\n",
       "      <th>pourcentage_livraison</th>\n",
       "      <th>price</th>\n",
       "      <th>cluster</th>\n",
       "    </tr>\n",
       "    <tr>\n",
       "      <th>cluster</th>\n",
       "      <th></th>\n",
       "      <th></th>\n",
       "      <th></th>\n",
       "      <th></th>\n",
       "      <th></th>\n",
       "      <th></th>\n",
       "    </tr>\n",
       "  </thead>\n",
       "  <tbody>\n",
       "    <tr>\n",
       "      <th>0</th>\n",
       "      <td>416.764352</td>\n",
       "      <td>2.012017</td>\n",
       "      <td>13.245210</td>\n",
       "      <td>0.204320</td>\n",
       "      <td>118.449834</td>\n",
       "      <td>0.0</td>\n",
       "    </tr>\n",
       "    <tr>\n",
       "      <th>1</th>\n",
       "      <td>826.153985</td>\n",
       "      <td>4.308902</td>\n",
       "      <td>13.635559</td>\n",
       "      <td>0.052496</td>\n",
       "      <td>1070.753903</td>\n",
       "      <td>1.0</td>\n",
       "    </tr>\n",
       "    <tr>\n",
       "      <th>2</th>\n",
       "      <td>335.959864</td>\n",
       "      <td>4.753575</td>\n",
       "      <td>9.266585</td>\n",
       "      <td>0.189159</td>\n",
       "      <td>112.498856</td>\n",
       "      <td>2.0</td>\n",
       "    </tr>\n",
       "    <tr>\n",
       "      <th>3</th>\n",
       "      <td>1610.434997</td>\n",
       "      <td>4.354394</td>\n",
       "      <td>19.520989</td>\n",
       "      <td>0.319487</td>\n",
       "      <td>96.401526</td>\n",
       "      <td>3.0</td>\n",
       "    </tr>\n",
       "  </tbody>\n",
       "</table>\n",
       "</div>"
      ],
      "text/plain": [
       "         Distance_cust_seller_km  review_score  temps_commande_reception  \\\n",
       "cluster                                                                    \n",
       "0                     416.764352      2.012017                 13.245210   \n",
       "1                     826.153985      4.308902                 13.635559   \n",
       "2                     335.959864      4.753575                  9.266585   \n",
       "3                    1610.434997      4.354394                 19.520989   \n",
       "\n",
       "         pourcentage_livraison        price  cluster  \n",
       "cluster                                               \n",
       "0                     0.204320   118.449834      0.0  \n",
       "1                     0.052496  1070.753903      1.0  \n",
       "2                     0.189159   112.498856      2.0  \n",
       "3                     0.319487    96.401526      3.0  "
      ]
     },
     "execution_count": 86,
     "metadata": {},
     "output_type": "execute_result"
    }
   ],
   "source": [
    "analyse.groupby(\"cluster\").apply(lambda x: x.mean())"
   ]
  },
  {
   "cell_type": "code",
   "execution_count": 75,
   "id": "a593aaa5-e74d-496c-8c4e-672080c9a310",
   "metadata": {},
   "outputs": [],
   "source": [
    "taille_lst = [len(df_init)]\n",
    "ARI_list = []\n",
    "\n",
    "for date in diff_date_int:\n",
    "    df_k = (\n",
    "        data[(data.order_purchase_timestamp < date)]\n",
    "        .groupby(\"customer_unique_id\")\n",
    "        .agg(\n",
    "            {\n",
    "                \"Distance_cust_seller_km\": \"mean\",\n",
    "                \"review_score\": \"mean\",\n",
    "                \"temps_commande_reception\": \"mean\",\n",
    "                \"pourcentage_livraison\": \"mean\",\n",
    "                \"price\": \"mean\",\n",
    "            }\n",
    "        )\n",
    "    )\n",
    "\n",
    "    taille_lst.append(len(df_k))"
   ]
  },
  {
   "cell_type": "code",
   "execution_count": 79,
   "id": "bce6949e-0ce5-45ed-82b8-0c7b70260f4f",
   "metadata": {},
   "outputs": [
    {
     "data": {
      "text/plain": [
       "Text(0.5, 1.0, 'Evolution de la taille des dataset par ajout de mois')"
      ]
     },
     "execution_count": 79,
     "metadata": {},
     "output_type": "execute_result"
    },
    {
     "data": {
      "image/png": "[encoded data removed]",
      "text/plain": [
       "<Figure size 432x288 with 1 Axes>"
      ]
     },
     "metadata": {
      "needs_background": "light"
     },
     "output_type": "display_data"
    }
   ],
   "source": [
    "plt.plot(taille_lst, color=\"red\")\n",
    "plt.grid()\n",
    "plt.xlabel(\"Les mois suivant la première année\")\n",
    "plt.ylabel(\"Nombre de client total prix en compte\")\n",
    "plt.title(\"Evolution de la taille des dataset par ajout de mois\")"
   ]
  },
  {
   "cell_type": "code",
   "execution_count": 106,
   "id": "2e266970-09c2-40f6-a474-221a73a43c2e",
   "metadata": {},
   "outputs": [
    {
     "data": {
      "text/plain": [
       "1.0"
      ]
     },
     "execution_count": 106,
     "metadata": {},
     "output_type": "execute_result"
    }
   ],
   "source": [
    "adjusted_rand_score(\n",
    "    model_init.predict(df_init_scaled), model_init.predict(df_init_scaled)\n",
    ")"
   ]
  },
  {
   "cell_type": "code",
   "execution_count": null,
   "id": "0a5451ab-9b5d-44c1-a115-af78d70bf778",
   "metadata": {},
   "outputs": [],
   "source": []
  },
  {
   "cell_type": "code",
   "execution_count": 107,
   "id": "cdbb37dd-a48c-4013-ae4e-83fefa596df6",
   "metadata": {},
   "outputs": [],
   "source": [
    "ARI_list_ = [\n",
    "    adjusted_rand_score(\n",
    "        model_init.predict(df_init_scaled), model_init.predict(df_init_scaled)\n",
    "    )\n",
    "]\n",
    "centroid_evol_list = [model_init.cluster_centers_]\n",
    "\n",
    "for date in diff_date_int:\n",
    "    df_k = (\n",
    "        data[(data.order_purchase_timestamp < date)]\n",
    "        .groupby(\"customer_unique_id\")\n",
    "        .agg(\n",
    "            {\n",
    "                \"Distance_cust_seller_km\": \"mean\",\n",
    "                \"review_score\": \"mean\",\n",
    "                \"temps_commande_reception\": \"mean\",\n",
    "                \"pourcentage_livraison\": \"mean\",\n",
    "                \"price\": \"mean\",\n",
    "            }\n",
    "        )\n",
    "    )\n",
    "    df_k_scaled = scaler.transform(df_k)\n",
    "    model_k = KMeans(4, random_state=42)\n",
    "    model_k.fit(df_k_scaled)\n",
    "    centroid_evol_list.append(model_k.cluster_centers_)\n",
    "\n",
    "    ARI_list_.append(\n",
    "        adjusted_rand_score(\n",
    "            model_k.predict(df_k_scaled), model_init.predict(df_k_scaled)\n",
    "        )\n",
    "    )"
   ]
  },
  {
   "cell_type": "code",
   "execution_count": 94,
   "id": "0f8c0dc5-8f3f-4617-9950-22fe526e54b8",
   "metadata": {
    "collapsed": true,
    "jupyter": {
     "outputs_hidden": true
    },
    "tags": []
   },
   "outputs": [
    {
     "data": {
      "text/plain": [
       "[array([[-0.24548607, -1.86971295,  0.16423676, -0.03820805, -0.08832439],\n",
       "        [ 0.40197439,  0.06049867,  0.20623116, -1.24366277,  4.07154601],\n",
       "        [-0.37301882,  0.43461986, -0.26263969, -0.15884521, -0.11427089],\n",
       "        [ 1.63204984,  0.09932076,  0.83520111,  0.88094161, -0.18607803]]),\n",
       " array([[-0.4148453 ,  0.38797506, -0.29222954, -0.2922653 , -0.08825655],\n",
       "        [-0.06593567, -2.01648416,  0.43399068,  0.01511012, -0.08143439],\n",
       "        [ 0.45501897,  0.07148298,  0.18559883, -1.23119973,  3.90898309],\n",
       "        [ 1.20512792,  0.24168545,  0.51314786,  1.01994228, -0.25942113]]),\n",
       " array([[ 0.40368551,  0.07852822,  0.19044798, -1.22556199,  3.77208908],\n",
       "        [-0.42639443,  0.33253795, -0.26401916, -0.32299501, -0.08440752],\n",
       "        [ 0.05975565, -2.20976972,  0.91621625,  0.02205723, -0.05178477],\n",
       "        [ 1.03992905,  0.25529283,  0.39910442,  1.03814423, -0.28584177]]),\n",
       " array([[ 5.39892074e-02, -2.21393107e+00,  1.00013964e+00,\n",
       "          1.64384885e-03, -3.97406337e-02],\n",
       "        [ 1.06026900e+00,  2.51066663e-01,  4.54991020e-01,\n",
       "          1.02219128e+00, -2.79991889e-01],\n",
       "        [-4.34720601e-01,  3.30619116e-01, -2.46053366e-01,\n",
       "         -3.20499315e-01, -8.80597973e-02],\n",
       "        [ 3.93870080e-01,  5.96172613e-02,  2.26120407e-01,\n",
       "         -1.22504706e+00,  3.75737286e+00]]),\n",
       " array([[-0.44038674,  0.32877683, -0.2400871 , -0.32243858, -0.09181437],\n",
       "        [ 1.04171009,  0.25035742,  0.46688093,  1.03756894, -0.286396  ],\n",
       "        [ 0.04572225, -2.20771642,  1.04029287, -0.00503987, -0.04097017],\n",
       "        [ 0.39132689,  0.02478521,  0.26047133, -1.2168727 ,  3.62133737]]),\n",
       " array([[-4.18348238e-01,  3.21069197e-01, -2.02040738e-01,\n",
       "         -6.03378837e-01,  1.39857045e-01],\n",
       "        [ 2.03115440e+00,  1.44784631e-01,  8.59620420e-01,\n",
       "          4.03718210e-01,  6.08433859e-02],\n",
       "        [ 1.94251899e-03, -2.30173168e+00,  1.19336471e+00,\n",
       "         -7.06834628e-02,  9.19943583e-02],\n",
       "        [-2.21657993e-01,  2.54460038e-01, -4.48531686e-02,\n",
       "          1.05586354e+00, -4.28441204e-01]]),\n",
       " array([[-0.43032802,  0.31168001, -0.19869247, -0.60622695,  0.14050664],\n",
       "        [ 0.03020186, -2.32516607,  1.29692016, -0.04076392,  0.09474812],\n",
       "        [-0.22598759,  0.24694376, -0.03038529,  1.04879975, -0.4254865 ],\n",
       "        [ 2.01542664,  0.1452312 ,  0.87739548,  0.40498938,  0.06198067]]),\n",
       " array([[-0.46880206,  0.31351733, -0.24967729, -0.35050999, -0.08671121],\n",
       "        [ 0.35839585, -0.02180457,  0.29946005, -1.21855114,  3.56526183],\n",
       "        [ 0.09403821, -2.27535625,  1.25345497,  0.02318312, -0.03617516],\n",
       "        [ 0.92356822,  0.24145555,  0.48057302,  1.01250378, -0.28983913]]),\n",
       " array([[ 8.53050860e-02, -2.26264995e+00,  1.19770099e+00,\n",
       "          3.50422698e-03, -3.33894796e-02],\n",
       "        [-4.74425022e-01,  3.20992456e-01, -2.64625215e-01,\n",
       "         -3.68813964e-01, -8.17114652e-02],\n",
       "        [ 8.86201732e-01,  2.45434309e-01,  4.58607598e-01,\n",
       "          1.01680875e+00, -2.91876349e-01],\n",
       "        [ 3.41179806e-01, -1.83176417e-02,  2.76375014e-01,\n",
       "         -1.21909293e+00,  3.64529261e+00]]),\n",
       " array([[-0.47575953,  0.32801041, -0.28478867, -0.35811905, -0.08291986],\n",
       "        [ 0.33333064, -0.00801534,  0.24043579, -1.21839957,  3.66119971],\n",
       "        [ 0.90278759,  0.25105185,  0.42794833,  1.03288023, -0.28879265],\n",
       "        [ 0.06988715, -2.25167772,  1.13018997,  0.00616744, -0.03232281]]),\n",
       " array([[ 3.48144156e-01, -2.92787830e-03,  2.19542994e-01,\n",
       "         -1.21077560e+00,  3.70306234e+00],\n",
       "        [-4.75781425e-01,  3.32366521e-01, -3.03680965e-01,\n",
       "         -3.50765752e-01, -8.23428977e-02],\n",
       "        [ 9.14947569e-01,  2.57745983e-01,  3.89991672e-01,\n",
       "          1.04215641e+00, -2.85578330e-01],\n",
       "        [ 6.67524018e-02, -2.24632726e+00,  1.07818987e+00,\n",
       "          7.22347183e-03, -3.17265880e-02]])]"
      ]
     },
     "execution_count": 94,
     "metadata": {},
     "output_type": "execute_result"
    }
   ],
   "source": [
    "centroid_evol_list"
   ]
  },
  {
   "cell_type": "code",
   "execution_count": 108,
   "id": "d721f852-c9ae-4f66-a3ff-09425b247e38",
   "metadata": {},
   "outputs": [
    {
     "data": {
      "text/plain": [
       "11"
      ]
     },
     "execution_count": 108,
     "metadata": {},
     "output_type": "execute_result"
    }
   ],
   "source": [
    "len(ARI_list_)"
   ]
  },
  {
   "cell_type": "code",
   "execution_count": 117,
   "id": "836804b6-7db6-49f8-afd9-f3d5f2548b6e",
   "metadata": {},
   "outputs": [
    {
     "data": {
      "image/png": "[encoded data removed]",
      "text/plain": [
       "<Figure size 720x432 with 1 Axes>"
      ]
     },
     "metadata": {
      "needs_background": "light"
     },
     "output_type": "display_data"
    }
   ],
   "source": [
    "df = pd.DataFrame({\"Mois comptés en +\": range(0, 11), \"ARI score\": ARI_list_})\n",
    "\n",
    "plt.figure(figsize=(10, 6))\n",
    "\n",
    "plt.plot(\n",
    "    \"Mois comptés en +\", \"ARI score\", data=df, linestyle=\"-\", marker=\"o\", color=\"red\"\n",
    ")\n",
    "plt.grid()\n",
    "plt.ylim(0, 1.1)\n",
    "plt.xticks(np.arange(0, 11))\n",
    "plt.title(\"Evolution Score ARI au fil des mois\")\n",
    "plt.show()"
   ]
  },
  {
   "cell_type": "code",
   "execution_count": 87,
   "id": "7700b62c-bdc2-4950-8075-0d57e8b26bcb",
   "metadata": {},
   "outputs": [
    {
     "data": {
      "text/plain": [
       "array([0, 2, 3, ..., 1, 3, 2])"
      ]
     },
     "execution_count": 87,
     "metadata": {},
     "output_type": "execute_result"
    }
   ],
   "source": [
    "model_init.predict(df_init_scaled)"
   ]
  },
  {
   "cell_type": "code",
   "execution_count": 156,
   "id": "12dd06c9-6e98-4307-9338-82ce94e1df09",
   "metadata": {},
   "outputs": [],
   "source": [
    "ARI_list_2 = [\n",
    "    adjusted_rand_score(\n",
    "        model_init.predict(df_init_scaled), model_init.predict(df_init_scaled)\n",
    "    )\n",
    "]\n",
    "centroid_evol_list_2 = [model_init.cluster_centers_]\n",
    "\n",
    "for date in diff_date_int:\n",
    "    df_k = (\n",
    "        data[(data.order_purchase_timestamp < date)]\n",
    "        .groupby(\"customer_unique_id\")\n",
    "        .agg(\n",
    "            {\n",
    "                \"Distance_cust_seller_km\": \"mean\",\n",
    "                \"review_score\": \"mean\",\n",
    "                \"temps_commande_reception\": \"mean\",\n",
    "                \"pourcentage_livraison\": \"mean\",\n",
    "                \"price\": \"mean\",\n",
    "            }\n",
    "        )\n",
    "    )\n",
    "    scaler_k = StandardScaler()\n",
    "    df_k_scaled = scaler_k.fit_transform(df_k)\n",
    "    model_k = KMeans(4, random_state=42)\n",
    "    model_k.fit(df_k_scaled)\n",
    "    centroid_evol_list.append(model_k.cluster_centers_)\n",
    "\n",
    "    ARI_list_2.append(\n",
    "        adjusted_rand_score(\n",
    "            model_k.predict(df_k_scaled), model_init.predict(scaler.transform(df_k))\n",
    "        )\n",
    "    )"
   ]
  },
  {
   "cell_type": "code",
   "execution_count": 157,
   "id": "e8a4281a-d5a9-4597-be69-d733dd1b2ead",
   "metadata": {},
   "outputs": [
    {
     "data": {
      "image/png": "[encoded data removed]",
      "text/plain": [
       "<Figure size 720x432 with 1 Axes>"
      ]
     },
     "metadata": {
      "needs_background": "light"
     },
     "output_type": "display_data"
    }
   ],
   "source": [
    "df = pd.DataFrame({\"Mois comptés en +\": range(0, 11), \"ARI score\": ARI_list_2})\n",
    "\n",
    "plt.figure(figsize=(10, 6))\n",
    "\n",
    "plt.plot(\n",
    "    \"Mois comptés en +\", \"ARI score\", data=df, linestyle=\"-\", marker=\"o\", color=\"red\"\n",
    ")\n",
    "plt.grid()\n",
    "plt.ylim(0, 1.1)\n",
    "plt.xticks(np.arange(0, 11))\n",
    "plt.title(\"Evolution Score ARI au fil des mois avec scaling \")\n",
    "plt.show()"
   ]
  },
  {
   "cell_type": "code",
   "execution_count": null,
   "id": "187ed18c-2547-4d46-af03-be96a9b4bf73",
   "metadata": {},
   "outputs": [],
   "source": []
  },
  {
   "cell_type": "code",
   "execution_count": null,
   "id": "abdda728-2a86-44b1-bf03-9ac070304bc6",
   "metadata": {},
   "outputs": [],
   "source": []
  },
  {
   "cell_type": "code",
   "execution_count": null,
   "id": "f8b8a544-0b1c-4f3e-82ee-3733bb93b338",
   "metadata": {},
   "outputs": [],
   "source": []
  },
  {
   "cell_type": "code",
   "execution_count": null,
   "id": "f85e3afd-8227-41dd-b8c2-9c1ef3f9d9f6",
   "metadata": {},
   "outputs": [],
   "source": []
  },
  {
   "cell_type": "markdown",
   "id": "409abb75-e063-414e-b98f-540986fa030d",
   "metadata": {},
   "source": [
    "Essayons avec les semaines "
   ]
  },
  {
   "cell_type": "code",
   "execution_count": null,
   "id": "5f9412fa-a83f-43ef-9171-4840221523d2",
   "metadata": {},
   "outputs": [],
   "source": []
  },
  {
   "cell_type": "code",
   "execution_count": null,
   "id": "0fd41d3c-69f9-4775-af8f-e3423e4a8934",
   "metadata": {},
   "outputs": [],
   "source": []
  },
  {
   "cell_type": "code",
   "execution_count": 143,
   "id": "567bb4ef-be39-415e-a0e4-bfb1a2e7c431",
   "metadata": {},
   "outputs": [],
   "source": [
    "date_init_w = pd.date_range(start, end, freq=\"w\")[54]\n",
    "diff_date_int_weekly = pd.date_range(start, end, freq=\"w\")[55:]"
   ]
  },
  {
   "cell_type": "code",
   "execution_count": 170,
   "id": "1dfe64cc-5e48-4c9b-85da-3f5a095e3000",
   "metadata": {},
   "outputs": [],
   "source": [
    "ARI_list_weekly = []\n",
    "centroid_evol_list_weekly = [model_init.cluster_centers_]\n",
    "shape_len = [len(df_init)]\n",
    "for date in diff_date_int_weekly:\n",
    "    df_k = (\n",
    "        data[(data.order_purchase_timestamp < date)]\n",
    "        .groupby(\"customer_unique_id\")\n",
    "        .agg(\n",
    "            {\n",
    "                \"Distance_cust_seller_km\": \"mean\",\n",
    "                \"review_score\": \"mean\",\n",
    "                \"temps_commande_reception\": \"mean\",\n",
    "                \"pourcentage_livraison\": \"mean\",\n",
    "                \"price\": \"mean\",\n",
    "            }\n",
    "        )\n",
    "    )\n",
    "    scaler_weeklyk = StandardScaler()\n",
    "    df_k_scaled = scaler_weeklyk.fit_transform(df_k)\n",
    "    shape_len.append(len(df_k))\n",
    "    model_k = KMeans(4, random_state=42)\n",
    "    model_k.fit(df_k_scaled)\n",
    "    centroid_evol_list.append(model_k.cluster_centers_)\n",
    "\n",
    "    ARI_list_weekly.append(\n",
    "        adjusted_rand_score(\n",
    "            model_k.predict(df_k_scaled), model_init.predict(scaler.transform(df_k))\n",
    "        )\n",
    "    )"
   ]
  },
  {
   "cell_type": "code",
   "execution_count": 146,
   "id": "a0660734-0bc1-4f11-9387-ce78e11e5a49",
   "metadata": {},
   "outputs": [
    {
     "data": {
      "text/plain": [
       "47"
      ]
     },
     "execution_count": 146,
     "metadata": {},
     "output_type": "execute_result"
    }
   ],
   "source": [
    "len(ARI_list_weekly)"
   ]
  },
  {
   "cell_type": "code",
   "execution_count": 165,
   "id": "6a2562bd-e3ac-4e54-a410-566615630ca3",
   "metadata": {},
   "outputs": [
    {
     "data": {
      "image/png": "[encoded data removed]",
      "text/plain": [
       "<Figure size 720x432 with 1 Axes>"
      ]
     },
     "metadata": {
      "needs_background": "light"
     },
     "output_type": "display_data"
    }
   ],
   "source": [
    "df = pd.DataFrame({\"Mois comptés en +\": range(0, 47), \"ARI score\": ARI_list_weekly})\n",
    "\n",
    "plt.figure(figsize=(10, 6))\n",
    "\n",
    "plt.plot(\n",
    "    \"Mois comptés en +\",\n",
    "    \"ARI score\",\n",
    "    data=df,\n",
    "    linestyle=\"-\",\n",
    "    marker=\"o\",\n",
    "    color=\"red\",\n",
    "    label=\"Suivi score\",\n",
    ")\n",
    "plt.axhline(\n",
    "    y=np.mean(ARI_list_weekly),\n",
    "    linestyle=\"--\",\n",
    "    color=\"black\",\n",
    "    label=\"Moyenne\",\n",
    ")\n",
    "\n",
    "plt.grid()\n",
    "plt.ylim(0, 1.1)\n",
    "plt.xlabel(\"Semaines en plus de la date\")\n",
    "plt.ylabel(\"Score ARI\")\n",
    "plt.legend()\n",
    "plt.title(\"Evolution Score ARI au fil des semaines avec scaling \")\n",
    "plt.show()"
   ]
  },
  {
   "cell_type": "code",
   "execution_count": 188,
   "id": "db7a88ad-2618-4866-bdf7-c83f8b18473f",
   "metadata": {},
   "outputs": [
    {
     "data": {
      "image/png": "[encoded data removed]",
      "text/plain": [
       "<Figure size 792x504 with 2 Axes>"
      ]
     },
     "metadata": {
      "needs_background": "light"
     },
     "output_type": "display_data"
    }
   ],
   "source": [
    "fig, ax1 = plt.subplots(figsize=(11, 7))\n",
    "\n",
    "ax2 = ax1.twinx()\n",
    "ax1.plot(\n",
    "    \"Mois comptés en +\",\n",
    "    \"ARI score\",\n",
    "    data=df,\n",
    "    linestyle=\"-\",\n",
    "    marker=\"o\",\n",
    "    color=\"red\",\n",
    "    label=\"Suivi score\",\n",
    ")\n",
    "ax1.axhline(\n",
    "    y=np.mean(ARI_list_weekly),\n",
    "    linestyle=\"--\",\n",
    "    color=\"black\",\n",
    "    label=\"Moyenne\",\n",
    ")\n",
    "ax2.plot(shape_len, color=\"yellow\", linestyle=\"--\", label=\"Nombre clients\")\n",
    "\n",
    "ax1.set_xlabel(\"X data\")\n",
    "ax1.set_ylabel(\"Score ARI\", color=\"g\")\n",
    "ax2.set_ylabel(\"Nombre de customers\", color=\"b\")\n",
    "ax1.set_ylim(0, 1.1)\n",
    "ax2.set_ylim(0, 95000)\n",
    "\n",
    "plt.title(\"Evolution Score ARI au fil des semaines avec scaling \")\n",
    "plt.xticks(np.arange(0, 47))\n",
    "ax1.grid(which=\"both\")\n",
    "ax2.grid(which=\"both\")\n",
    "\n",
    "ax1.legend()\n",
    "ax2.legend()\n",
    "plt.show()"
   ]
  },
  {
   "cell_type": "code",
   "execution_count": 168,
   "id": "100757be-22c9-4e98-85f8-8698bf738456",
   "metadata": {},
   "outputs": [
    {
     "data": {
      "text/html": [
       "<div>\n",
       "<style scoped>\n",
       "    .dataframe tbody tr th:only-of-type {\n",
       "        vertical-align: middle;\n",
       "    }\n",
       "\n",
       "    .dataframe tbody tr th {\n",
       "        vertical-align: top;\n",
       "    }\n",
       "\n",
       "    .dataframe thead th {\n",
       "        text-align: right;\n",
       "    }\n",
       "</style>\n",
       "<table border=\"1\" class=\"dataframe\">\n",
       "  <thead>\n",
       "    <tr style=\"text-align: right;\">\n",
       "      <th></th>\n",
       "      <th>Distance_cust_seller_km</th>\n",
       "      <th>review_score</th>\n",
       "      <th>temps_commande_reception</th>\n",
       "      <th>pourcentage_livraison</th>\n",
       "      <th>price</th>\n",
       "    </tr>\n",
       "  </thead>\n",
       "  <tbody>\n",
       "    <tr>\n",
       "      <th>count</th>\n",
       "      <td>25230.000000</td>\n",
       "      <td>25230.000000</td>\n",
       "      <td>25230.000000</td>\n",
       "      <td>25230.000000</td>\n",
       "      <td>25230.000000</td>\n",
       "    </tr>\n",
       "    <tr>\n",
       "      <th>mean</th>\n",
       "      <td>572.528585</td>\n",
       "      <td>4.236495</td>\n",
       "      <td>11.714824</td>\n",
       "      <td>0.209020</td>\n",
       "      <td>138.684108</td>\n",
       "    </tr>\n",
       "    <tr>\n",
       "      <th>std</th>\n",
       "      <td>634.567678</td>\n",
       "      <td>1.189898</td>\n",
       "      <td>9.329288</td>\n",
       "      <td>0.125714</td>\n",
       "      <td>228.786756</td>\n",
       "    </tr>\n",
       "    <tr>\n",
       "      <th>min</th>\n",
       "      <td>0.000000</td>\n",
       "      <td>1.000000</td>\n",
       "      <td>0.000000</td>\n",
       "      <td>0.000000</td>\n",
       "      <td>2.290000</td>\n",
       "    </tr>\n",
       "    <tr>\n",
       "      <th>25%</th>\n",
       "      <td>0.000000</td>\n",
       "      <td>4.000000</td>\n",
       "      <td>7.000000</td>\n",
       "      <td>0.117953</td>\n",
       "      <td>45.900000</td>\n",
       "    </tr>\n",
       "    <tr>\n",
       "      <th>50%</th>\n",
       "      <td>426.472203</td>\n",
       "      <td>5.000000</td>\n",
       "      <td>10.000000</td>\n",
       "      <td>0.183256</td>\n",
       "      <td>84.990000</td>\n",
       "    </tr>\n",
       "    <tr>\n",
       "      <th>75%</th>\n",
       "      <td>821.913063</td>\n",
       "      <td>5.000000</td>\n",
       "      <td>14.000000</td>\n",
       "      <td>0.274545</td>\n",
       "      <td>149.990000</td>\n",
       "    </tr>\n",
       "    <tr>\n",
       "      <th>max</th>\n",
       "      <td>3310.827734</td>\n",
       "      <td>5.000000</td>\n",
       "      <td>209.000000</td>\n",
       "      <td>0.851621</td>\n",
       "      <td>13440.000000</td>\n",
       "    </tr>\n",
       "  </tbody>\n",
       "</table>\n",
       "</div>"
      ],
      "text/plain": [
       "       Distance_cust_seller_km  review_score  temps_commande_reception  \\\n",
       "count             25230.000000  25230.000000              25230.000000   \n",
       "mean                572.528585      4.236495                 11.714824   \n",
       "std                 634.567678      1.189898                  9.329288   \n",
       "min                   0.000000      1.000000                  0.000000   \n",
       "25%                   0.000000      4.000000                  7.000000   \n",
       "50%                 426.472203      5.000000                 10.000000   \n",
       "75%                 821.913063      5.000000                 14.000000   \n",
       "max                3310.827734      5.000000                209.000000   \n",
       "\n",
       "       pourcentage_livraison         price  \n",
       "count           25230.000000  25230.000000  \n",
       "mean                0.209020    138.684108  \n",
       "std                 0.125714    228.786756  \n",
       "min                 0.000000      2.290000  \n",
       "25%                 0.117953     45.900000  \n",
       "50%                 0.183256     84.990000  \n",
       "75%                 0.274545    149.990000  \n",
       "max                 0.851621  13440.000000  "
      ]
     },
     "execution_count": 168,
     "metadata": {},
     "output_type": "execute_result"
    }
   ],
   "source": [
    "df_init.describe()"
   ]
  },
  {
   "cell_type": "code",
   "execution_count": 169,
   "id": "ffbff48a-cf9b-45ee-864b-493747d99b8b",
   "metadata": {},
   "outputs": [
    {
     "data": {
      "text/html": [
       "<div>\n",
       "<style scoped>\n",
       "    .dataframe tbody tr th:only-of-type {\n",
       "        vertical-align: middle;\n",
       "    }\n",
       "\n",
       "    .dataframe tbody tr th {\n",
       "        vertical-align: top;\n",
       "    }\n",
       "\n",
       "    .dataframe thead th {\n",
       "        text-align: right;\n",
       "    }\n",
       "</style>\n",
       "<table border=\"1\" class=\"dataframe\">\n",
       "  <thead>\n",
       "    <tr style=\"text-align: right;\">\n",
       "      <th></th>\n",
       "      <th>Distance_cust_seller_km</th>\n",
       "      <th>review_score</th>\n",
       "      <th>temps_commande_reception</th>\n",
       "      <th>pourcentage_livraison</th>\n",
       "      <th>price</th>\n",
       "    </tr>\n",
       "  </thead>\n",
       "  <tbody>\n",
       "    <tr>\n",
       "      <th>count</th>\n",
       "      <td>2.523000e+04</td>\n",
       "      <td>2.523000e+04</td>\n",
       "      <td>2.523000e+04</td>\n",
       "      <td>2.523000e+04</td>\n",
       "      <td>2.523000e+04</td>\n",
       "    </tr>\n",
       "    <tr>\n",
       "      <th>mean</th>\n",
       "      <td>-3.434519e-17</td>\n",
       "      <td>-2.115232e-15</td>\n",
       "      <td>4.518339e-17</td>\n",
       "      <td>1.911683e-16</td>\n",
       "      <td>1.483290e-16</td>\n",
       "    </tr>\n",
       "    <tr>\n",
       "      <th>std</th>\n",
       "      <td>1.000020e+00</td>\n",
       "      <td>1.000020e+00</td>\n",
       "      <td>1.000020e+00</td>\n",
       "      <td>1.000020e+00</td>\n",
       "      <td>1.000020e+00</td>\n",
       "    </tr>\n",
       "    <tr>\n",
       "      <th>min</th>\n",
       "      <td>-9.022520e-01</td>\n",
       "      <td>-2.720031e+00</td>\n",
       "      <td>-1.255729e+00</td>\n",
       "      <td>-1.662697e+00</td>\n",
       "      <td>-5.961744e-01</td>\n",
       "    </tr>\n",
       "    <tr>\n",
       "      <th>25%</th>\n",
       "      <td>-9.022520e-01</td>\n",
       "      <td>-1.987567e-01</td>\n",
       "      <td>-5.053887e-01</td>\n",
       "      <td>-7.244145e-01</td>\n",
       "      <td>-4.055565e-01</td>\n",
       "    </tr>\n",
       "    <tr>\n",
       "      <th>50%</th>\n",
       "      <td>-2.301713e-01</td>\n",
       "      <td>6.416682e-01</td>\n",
       "      <td>-1.838144e-01</td>\n",
       "      <td>-2.049447e-01</td>\n",
       "      <td>-2.346953e-01</td>\n",
       "    </tr>\n",
       "    <tr>\n",
       "      <th>75%</th>\n",
       "      <td>3.930068e-01</td>\n",
       "      <td>6.416682e-01</td>\n",
       "      <td>2.449513e-01</td>\n",
       "      <td>5.212378e-01</td>\n",
       "      <td>4.941770e-02</td>\n",
       "    </tr>\n",
       "    <tr>\n",
       "      <th>max</th>\n",
       "      <td>4.315306e+00</td>\n",
       "      <td>6.416682e-01</td>\n",
       "      <td>2.114728e+01</td>\n",
       "      <td>5.111717e+00</td>\n",
       "      <td>5.813964e+01</td>\n",
       "    </tr>\n",
       "  </tbody>\n",
       "</table>\n",
       "</div>"
      ],
      "text/plain": [
       "       Distance_cust_seller_km  review_score  temps_commande_reception  \\\n",
       "count             2.523000e+04  2.523000e+04              2.523000e+04   \n",
       "mean             -3.434519e-17 -2.115232e-15              4.518339e-17   \n",
       "std               1.000020e+00  1.000020e+00              1.000020e+00   \n",
       "min              -9.022520e-01 -2.720031e+00             -1.255729e+00   \n",
       "25%              -9.022520e-01 -1.987567e-01             -5.053887e-01   \n",
       "50%              -2.301713e-01  6.416682e-01             -1.838144e-01   \n",
       "75%               3.930068e-01  6.416682e-01              2.449513e-01   \n",
       "max               4.315306e+00  6.416682e-01              2.114728e+01   \n",
       "\n",
       "       pourcentage_livraison         price  \n",
       "count           2.523000e+04  2.523000e+04  \n",
       "mean            1.911683e-16  1.483290e-16  \n",
       "std             1.000020e+00  1.000020e+00  \n",
       "min            -1.662697e+00 -5.961744e-01  \n",
       "25%            -7.244145e-01 -4.055565e-01  \n",
       "50%            -2.049447e-01 -2.346953e-01  \n",
       "75%             5.212378e-01  4.941770e-02  \n",
       "max             5.111717e+00  5.813964e+01  "
      ]
     },
     "execution_count": 169,
     "metadata": {},
     "output_type": "execute_result"
    }
   ],
   "source": [
    "pd.DataFrame(df_init_scaled, columns=df_init.columns).describe()"
   ]
  }
 ],
 "metadata": {
  "kernelspec": {
   "display_name": "Python 3 (ipykernel)",
   "language": "python",
   "name": "python3"
  },
  "language_info": {
   "codemirror_mode": {
    "name": "ipython",
    "version": 3
   },
   "file_extension": ".py",
   "mimetype": "text/x-python",
   "name": "python",
   "nbconvert_exporter": "python",
   "pygments_lexer": "ipython3",
   "version": "3.8.12"
  }
 },
 "nbformat": 4,
 "nbformat_minor": 5
}
